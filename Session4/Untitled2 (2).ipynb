{
 "cells": [
  {
   "cell_type": "code",
   "execution_count": 1,
   "id": "65b70a9c-0ffa-4d6d-a83b-86af64aa4afb",
   "metadata": {},
   "outputs": [
    {
     "name": "stdout",
     "output_type": "stream",
     "text": [
      "0 -0.1 0.12 10\n",
      "1 -0.20272800000000002 0.2504 10.2728\n",
      "2 -0.30832618010240004 0.39091359999999997 10.55981801024\n",
      "3 -0.4169726941385948 0.5413057480204799 10.864651403619476\n",
      "4 -0.5288950413277232 0.7013958270065606 11.192234718912847\n",
      "5 -0.6443857167305367 0.8710631691115803 11.54906754028135\n",
      "6 -0.7638212121299185 1.0502552589287613 11.943549539938182\n",
      "7 -0.887685763865657 1.238999080640444 12.386455173573847\n",
      "8 -1.0166017574256603 1.43741630696234 12.891599356000336\n",
      "9 -1.151369494365454 1.6457433538904849 13.47677369397938\n"
     ]
    }
   ],
   "source": [
    "data = [(1, 3), (3, 1)]\n",
    "def f(w, b):\n",
    "    return sum((y - (w * x + b))**2 for x, y in data)\n",
    "def dw(w, b):\n",
    "    return sum(-2 * x * (y - (w * x + b)) for x, y in data)\n",
    "w = 0\n",
    "b = 0\n",
    "alpha = 0.01\n",
    "for t in range(10):\n",
    "    value = f(w, b)\n",
    "    gradient_w = f(w, b)\n",
    "    gradient_b = dw(w, b)\n",
    "    w = w - alpha * gradient_w\n",
    "    b = b - alpha * gradient_b  \n",
    "    print(t,w,b,value)"
   ]
  },
  {
   "cell_type": "code",
   "execution_count": null,
   "id": "78a5a11d-80f8-49b6-bca3-66c1e4d6ed18",
   "metadata": {},
   "outputs": [],
   "source": []
  }
 ],
 "metadata": {
  "kernelspec": {
   "display_name": "Python 3 (ipykernel)",
   "language": "python",
   "name": "python3"
  },
  "language_info": {
   "codemirror_mode": {
    "name": "ipython",
    "version": 3
   },
   "file_extension": ".py",
   "mimetype": "text/x-python",
   "name": "python",
   "nbconvert_exporter": "python",
   "pygments_lexer": "ipython3",
   "version": "3.13.7"
  }
 },
 "nbformat": 4,
 "nbformat_minor": 5
}
