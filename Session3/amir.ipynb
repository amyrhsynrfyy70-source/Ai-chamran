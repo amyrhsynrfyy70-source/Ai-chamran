def ami (y,yh):
    n=len(y)
    return sum((y[i]-yh[i])**2 for i in range(3,n))

y = [5, 7, 9, 11]
yh = [6, 7, 10, 12]
result = ami(y, yh)
print(f"Sum : {result}")
