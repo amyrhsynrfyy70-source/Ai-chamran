{
  "cells": [
    {
      "cell_type": "code",
      "execution_count": null,
      "metadata": {},
      "outputs": [],
      "source": [
        "def ami (y,yh):\n",
        "    n=len(y)\n",
        "    return sum((y[i]-yh[i])**2 for i in range(3,n))\n",
        "\n",
        "y = [5, 7, 9, 11]\n",
        "yh = [6, 7, 10, 12]\n",
        "result = ami(y, yh)\n",
        "print(f\"Sum : {result}\")"
      ]
    }
  ],
  "metadata": {
    "kernelspec": {
      "display_name": "Python 3",
      "language": "python",
      "name": "python3"
    },
    "language_info": {
      "name": "python",
      "version": "3.x"
    }
  },
  "nbformat": 4,
  "nbformat_minor": 2
}
